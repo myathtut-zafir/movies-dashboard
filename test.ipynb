{
 "cells": [
  {
   "cell_type": "code",
   "execution_count": null,
   "metadata": {},
   "outputs": [],
   "source": [
    "import pandas as pd\n",
    "df=pd.read_csv('./data/imdb_top_1000.csv')"
   ]
  },
  {
   "cell_type": "code",
   "execution_count": null,
   "metadata": {},
   "outputs": [],
   "source": [
    "import plotly.express as px\n",
    "import streamlit as st"
   ]
  },
  {
   "cell_type": "code",
   "execution_count": null,
   "metadata": {},
   "outputs": [],
   "source": [
    "df.head()"
   ]
  },
  {
   "cell_type": "code",
   "execution_count": null,
   "metadata": {},
   "outputs": [],
   "source": [
    "df.groupby('Released_Year')['Series_Title'].sum().sort_values()"
   ]
  },
  {
   "cell_type": "code",
   "execution_count": 20,
   "metadata": {},
   "outputs": [
    {
     "data": {
      "text/plain": [
       "0              Morgan Freeman, Bob Gunton, Tim Robbins\n",
       "1                 Marlon Brando, James Caan, Al Pacino\n",
       "2          Heath Ledger, Aaron Eckhart, Christian Bale\n",
       "3             Robert De Niro, Robert Duvall, Al Pacino\n",
       "4              Martin Balsam, Lee J. Cobb, Henry Fonda\n",
       "                            ...                       \n",
       "995      George Peppard, Patricia Neal, Audrey Hepburn\n",
       "996          Elizabeth Taylor, James Dean, Rock Hudson\n",
       "997     Montgomery Clift, Burt Lancaster, Deborah Kerr\n",
       "998      Walter Slezak, John Hodiak, Tallulah Bankhead\n",
       "999    Lucie Mannheim, Robert Donat, Madeleine Carroll\n",
       "Length: 1000, dtype: object"
      ]
     },
     "execution_count": 20,
     "metadata": {},
     "output_type": "execute_result"
    }
   ],
   "source": [
    "df[['Star1', 'Star2', 'Star3']].apply(lambda x: ', '.join(set(x.dropna())), axis=1)"
   ]
  }
 ],
 "metadata": {
  "kernelspec": {
   "display_name": "testing",
   "language": "python",
   "name": "python3"
  },
  "language_info": {
   "codemirror_mode": {
    "name": "ipython",
    "version": 3
   },
   "file_extension": ".py",
   "mimetype": "text/x-python",
   "name": "python",
   "nbconvert_exporter": "python",
   "pygments_lexer": "ipython3",
   "version": "3.11.9"
  }
 },
 "nbformat": 4,
 "nbformat_minor": 2
}
